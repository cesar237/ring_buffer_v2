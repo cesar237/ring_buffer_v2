{
 "cells": [
  {
   "cell_type": "code",
   "execution_count": 2,
   "id": "0572508f",
   "metadata": {},
   "outputs": [],
   "source": [
    "import numpy as np\n",
    "import scipy as sp\n",
    "import matplotlib as mp\n",
    "from matplotlib import pyplot as plt\n",
    "import pandas as pd\n",
    "import scienceplots\n",
    "import os"
   ]
  },
  {
   "cell_type": "code",
   "execution_count": 3,
   "id": "f511c05f",
   "metadata": {},
   "outputs": [],
   "source": [
    "prefix = '../results'"
   ]
  },
  {
   "cell_type": "code",
   "execution_count": 52,
   "id": "b65c3118",
   "metadata": {},
   "outputs": [
    {
     "data": {
      "text/plain": [
       "['ssrb-bc-32.csv',\n",
       " 'mrb-16.csv',\n",
       " 'ssrb-bc-16.csv',\n",
       " 'ssrb-bc-8.csv',\n",
       " 'mrb-4.csv',\n",
       " 'mrb-18.csv',\n",
       " 'mrb-2.csv',\n",
       " 'ssrb-bc-4.csv',\n",
       " 'ssrb-bc-2.csv',\n",
       " 'noqueue.csv',\n",
       " 'mrb-8.csv',\n",
       " 'ssrb.csv']"
      ]
     },
     "execution_count": 52,
     "metadata": {},
     "output_type": "execute_result"
    }
   ],
   "source": [
    "os.listdir(prefix)"
   ]
  },
  {
   "cell_type": "code",
   "execution_count": 58,
   "id": "68cedfb4",
   "metadata": {},
   "outputs": [],
   "source": [
    "names = ['id', 'produced', 'consumed', 'spin_time', 'running_time', 'latency']\n",
    "def import_csv(path):\n",
    "    df = pd.read_csv(path, names=names)\n",
    "    df_id = df.groupby('id').quantile(.5).reset_index()\n",
    "\n",
    "    total_consumed = df_id.consumed.sum()\n",
    "    total_produced = df_id.produced.iloc[0]\n",
    "    total_spin_time = df_id.spin_time.sum()\n",
    "    total_running_time = df_id.running_time.sum()\n",
    "\n",
    "    throughput_mpps = total_consumed / 10000000\n",
    "    p99_latency_us = df.latency.quantile(.9) / 1000\n",
    "    spin_time_ratio = total_spin_time / total_running_time\n",
    "\n",
    "    return throughput_mpps, p99_latency_us, spin_time_ratio"
   ]
  },
  {
   "cell_type": "code",
   "execution_count": 85,
   "id": "d922be52",
   "metadata": {},
   "outputs": [],
   "source": [
    "cols = ['throughput', 'latency', 'spinlock_ratio']"
   ]
  },
  {
   "cell_type": "markdown",
   "id": "cf3d524c",
   "metadata": {},
   "source": [
    "# SSRB"
   ]
  },
  {
   "cell_type": "code",
   "execution_count": 89,
   "id": "804f7de7",
   "metadata": {},
   "outputs": [
    {
     "data": {
      "text/html": [
       "<div>\n",
       "<style scoped>\n",
       "    .dataframe tbody tr th:only-of-type {\n",
       "        vertical-align: middle;\n",
       "    }\n",
       "\n",
       "    .dataframe tbody tr th {\n",
       "        vertical-align: top;\n",
       "    }\n",
       "\n",
       "    .dataframe thead th {\n",
       "        text-align: right;\n",
       "    }\n",
       "</style>\n",
       "<table border=\"1\" class=\"dataframe\">\n",
       "  <thead>\n",
       "    <tr style=\"text-align: right;\">\n",
       "      <th></th>\n",
       "      <th>throughput</th>\n",
       "      <th>latency</th>\n",
       "      <th>spinlock_ratio</th>\n",
       "      <th>variant</th>\n",
       "    </tr>\n",
       "  </thead>\n",
       "  <tbody>\n",
       "    <tr>\n",
       "      <th>0</th>\n",
       "      <td>0.547222</td>\n",
       "      <td>16.0</td>\n",
       "      <td>0.725698</td>\n",
       "      <td>SSRB</td>\n",
       "    </tr>\n",
       "  </tbody>\n",
       "</table>\n",
       "</div>"
      ],
      "text/plain": [
       "   throughput  latency  spinlock_ratio variant\n",
       "0    0.547222     16.0        0.725698    SSRB"
      ]
     },
     "execution_count": 89,
     "metadata": {},
     "output_type": "execute_result"
    }
   ],
   "source": [
    "path = f\"{prefix}/ssrb.csv\"\n",
    "data = [list(import_csv(path))]\n",
    "df_ssrb = pd.DataFrame(data, columns=cols)\n",
    "df_ssrb['variant'] = 'SSRB'\n",
    "df_ssrb"
   ]
  },
  {
   "cell_type": "markdown",
   "id": "cd08f5c5",
   "metadata": {},
   "source": [
    "# NRB"
   ]
  },
  {
   "cell_type": "code",
   "execution_count": 90,
   "id": "13818d91",
   "metadata": {},
   "outputs": [
    {
     "data": {
      "text/html": [
       "<div>\n",
       "<style scoped>\n",
       "    .dataframe tbody tr th:only-of-type {\n",
       "        vertical-align: middle;\n",
       "    }\n",
       "\n",
       "    .dataframe tbody tr th {\n",
       "        vertical-align: top;\n",
       "    }\n",
       "\n",
       "    .dataframe thead th {\n",
       "        text-align: right;\n",
       "    }\n",
       "</style>\n",
       "<table border=\"1\" class=\"dataframe\">\n",
       "  <thead>\n",
       "    <tr style=\"text-align: right;\">\n",
       "      <th></th>\n",
       "      <th>throughput</th>\n",
       "      <th>latency</th>\n",
       "      <th>spinlock_ratio</th>\n",
       "      <th>variant</th>\n",
       "    </tr>\n",
       "  </thead>\n",
       "  <tbody>\n",
       "    <tr>\n",
       "      <th>0</th>\n",
       "      <td>0.547222</td>\n",
       "      <td>16.0</td>\n",
       "      <td>0.725698</td>\n",
       "      <td>NRB</td>\n",
       "    </tr>\n",
       "  </tbody>\n",
       "</table>\n",
       "</div>"
      ],
      "text/plain": [
       "   throughput  latency  spinlock_ratio variant\n",
       "0    0.547222     16.0        0.725698     NRB"
      ]
     },
     "execution_count": 90,
     "metadata": {},
     "output_type": "execute_result"
    }
   ],
   "source": [
    "path = f\"{prefix}/noqueue.csv\"\n",
    "df_nrb = pd.DataFrame(data, columns=cols)\n",
    "df_nrb['variant'] = 'NRB'\n",
    "df_nrb"
   ]
  },
  {
   "cell_type": "markdown",
   "id": "77d3b2da",
   "metadata": {},
   "source": [
    "# SSRB-BC"
   ]
  },
  {
   "cell_type": "code",
   "execution_count": 80,
   "id": "980544a3",
   "metadata": {},
   "outputs": [],
   "source": [
    "batches = [2, 4, 8, 16, 32]\n",
    "dfs = []\n",
    "for batch in batches:\n",
    "    path = f\"{prefix}/ssrb-bc-{batch}.csv\"\n",
    "    dfs.append([batch] + list(import_csv(path)))"
   ]
  },
  {
   "cell_type": "code",
   "execution_count": 93,
   "id": "66c3de2b",
   "metadata": {},
   "outputs": [
    {
     "data": {
      "text/html": [
       "<div>\n",
       "<style scoped>\n",
       "    .dataframe tbody tr th:only-of-type {\n",
       "        vertical-align: middle;\n",
       "    }\n",
       "\n",
       "    .dataframe tbody tr th {\n",
       "        vertical-align: top;\n",
       "    }\n",
       "\n",
       "    .dataframe thead th {\n",
       "        text-align: right;\n",
       "    }\n",
       "</style>\n",
       "<table border=\"1\" class=\"dataframe\">\n",
       "  <thead>\n",
       "    <tr style=\"text-align: right;\">\n",
       "      <th></th>\n",
       "      <th>batch</th>\n",
       "      <th>throughput</th>\n",
       "      <th>latency</th>\n",
       "      <th>spinlock_ratio</th>\n",
       "      <th>variant</th>\n",
       "    </tr>\n",
       "  </thead>\n",
       "  <tbody>\n",
       "    <tr>\n",
       "      <th>0</th>\n",
       "      <td>2</td>\n",
       "      <td>0.682969</td>\n",
       "      <td>12.0</td>\n",
       "      <td>0.530680</td>\n",
       "      <td>SSRB-BC</td>\n",
       "    </tr>\n",
       "    <tr>\n",
       "      <th>1</th>\n",
       "      <td>4</td>\n",
       "      <td>3.358242</td>\n",
       "      <td>319.0</td>\n",
       "      <td>0.009358</td>\n",
       "      <td>SSRB-BC</td>\n",
       "    </tr>\n",
       "    <tr>\n",
       "      <th>2</th>\n",
       "      <td>8</td>\n",
       "      <td>3.349478</td>\n",
       "      <td>312.0</td>\n",
       "      <td>0.012134</td>\n",
       "      <td>SSRB-BC</td>\n",
       "    </tr>\n",
       "    <tr>\n",
       "      <th>3</th>\n",
       "      <td>16</td>\n",
       "      <td>3.370638</td>\n",
       "      <td>349.0</td>\n",
       "      <td>0.006046</td>\n",
       "      <td>SSRB-BC</td>\n",
       "    </tr>\n",
       "    <tr>\n",
       "      <th>4</th>\n",
       "      <td>32</td>\n",
       "      <td>3.370582</td>\n",
       "      <td>427.0</td>\n",
       "      <td>0.007002</td>\n",
       "      <td>SSRB-BC</td>\n",
       "    </tr>\n",
       "  </tbody>\n",
       "</table>\n",
       "</div>"
      ],
      "text/plain": [
       "   batch  throughput  latency  spinlock_ratio  variant\n",
       "0      2    0.682969     12.0        0.530680  SSRB-BC\n",
       "1      4    3.358242    319.0        0.009358  SSRB-BC\n",
       "2      8    3.349478    312.0        0.012134  SSRB-BC\n",
       "3     16    3.370638    349.0        0.006046  SSRB-BC\n",
       "4     32    3.370582    427.0        0.007002  SSRB-BC"
      ]
     },
     "execution_count": 93,
     "metadata": {},
     "output_type": "execute_result"
    }
   ],
   "source": [
    "df_ssrb_bc = pd.DataFrame(dfs, columns=['batch']+cols)\n",
    "df_ssrb_bc['variant'] = 'SSRB-BC'\n",
    "df_ssrb_bc"
   ]
  },
  {
   "cell_type": "markdown",
   "id": "e0cde875",
   "metadata": {},
   "source": [
    "# MRB"
   ]
  },
  {
   "cell_type": "code",
   "execution_count": null,
   "id": "2db6b5b4",
   "metadata": {},
   "outputs": [],
   "source": [
    "rings = [2, 4, 8, 17]\n",
    "dfs = []\n",
    "for batch in batches:\n",
    "    path = f\"{prefix}/ssrb-bc-{batch}.csv\"\n",
    "    dfs.append([batch] + list(import_csv(path)))"
   ]
  }
 ],
 "metadata": {
  "kernelspec": {
   "display_name": "Python 3 (ipykernel)",
   "language": "python",
   "name": "python3"
  },
  "language_info": {
   "codemirror_mode": {
    "name": "ipython",
    "version": 3
   },
   "file_extension": ".py",
   "mimetype": "text/x-python",
   "name": "python",
   "nbconvert_exporter": "python",
   "pygments_lexer": "ipython3",
   "version": "3.11.6"
  }
 },
 "nbformat": 4,
 "nbformat_minor": 5
}
